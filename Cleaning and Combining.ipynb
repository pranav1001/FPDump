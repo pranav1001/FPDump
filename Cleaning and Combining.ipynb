{
 "cells": [
  {
   "cell_type": "code",
   "execution_count": 1,
   "metadata": {},
   "outputs": [],
   "source": [
    "import pandas as pd\n",
    "import numpy as np\n",
    "import seaborn as sns"
   ]
  },
  {
   "cell_type": "code",
   "execution_count": 58,
   "metadata": {},
   "outputs": [],
   "source": [
    "facial_features1=pd.read_csv(r'D:\\Dataset\\3 - Feature dataset\\per sensor\\B - Facial expressions features (FaceReaderAllData_final (NaN is 999))-sheet_1.csv')\n",
    "facial_features2=pd.read_csv(r'D:\\Dataset\\3 - Feature dataset\\per sensor\\B - Facial expressions features (FaceReaderAllData_final (NaN is 999))-sheet_2.csv')"
   ]
  },
  {
   "cell_type": "code",
   "execution_count": 59,
   "metadata": {},
   "outputs": [],
   "source": [
    "facial_features1.replace('\\t','',regex=True,inplace=True)\n",
    "facial_features1.replace('\"','',regex=True,inplace=True)\n",
    "\n",
    "facial_features2.replace('\\t','',regex=True,inplace=True)\n",
    "facial_features2.replace('\"','',regex=True,inplace=True)"
   ]
  },
  {
   "cell_type": "code",
   "execution_count": 60,
   "metadata": {},
   "outputs": [],
   "source": [
    "facial_features1.replace('999000000',np.nan,inplace=True)\n",
    "facial_features1.replace('NaN',np.nan,inplace=True)\n",
    "facial_features1.drop(facial_features1[facial_features1.C=='C'].index,inplace=True)\n",
    "\n",
    "facial_features2.replace('999000000',np.nan,inplace=True)\n",
    "del facial_features2['Unnamed: 44']\n",
    "del facial_features2['\\t\\t\\t\\t\\t\\t\\t\\t\\t\\t\\t\\t\\t\\t\\t\\t\\t\\t\\t\\t\\t\\t\\t\\t\\t\\t\\t\\t\\t\\t\\t\\t\\t\\t\\t\\t\\t\\t\\t\\t\\t']"
   ]
  },
  {
   "cell_type": "code",
   "execution_count": 68,
   "metadata": {},
   "outputs": [],
   "source": [
    "facial_features = facial_features1.append(facial_features2, ignore_index=True)\n",
    "facial_features.dropna(inplace=True)"
   ]
  },
  {
   "cell_type": "code",
   "execution_count": 69,
   "metadata": {},
   "outputs": [
    {
     "data": {
      "text/plain": [
       "PP                          0\n",
       "C                           0\n",
       "timestamp                   0\n",
       "Squality                    0\n",
       "Sneutral                    0\n",
       "Shappy                      0\n",
       "Ssad                        0\n",
       "Sangry                      0\n",
       "Ssurprised                  0\n",
       "Sscared                     0\n",
       "Sdisgusted                  0\n",
       "Svalence                    0\n",
       "SyHeadOrientation           0\n",
       "SxHeadOrientation           0\n",
       "SzHeadOrientation           0\n",
       "SmouthOpen                  0\n",
       "SleftEyeClosed              0\n",
       "SrightEyeClosed             0\n",
       "SleftEyebrowLowered         0\n",
       "SleftEyebrowRaised          0\n",
       "SrightEyebrowLowered        0\n",
       "SrightEyebrowRaised         0\n",
       "SgazeDirectionForward       0\n",
       "SgazeDirectionLeft          0\n",
       "SgazeDirectionRight         0\n",
       "SAu01_InnerBrowRaiser       0\n",
       "SAu02_OuterBrowRaiser       0\n",
       "SAu04_BrowLowerer           0\n",
       "SAu05_UpperLidRaiser        0\n",
       "SAu06_CheekRaiser           0\n",
       "SAu07_LidTightener          0\n",
       "SAu09_NoseWrinkler          0\n",
       "SAu10_UpperLipRaiser        0\n",
       "SAu12_LipCornerPuller       0\n",
       "SAu14_Dimpler               0\n",
       "SAu15_LipCornerDepressor    0\n",
       "SAu17_ChinRaiser            0\n",
       "SAu20_LipStretcher          0\n",
       "SAu23_LipTightener          0\n",
       "SAu24_LipPressor            0\n",
       "SAu25_LipsPart              0\n",
       "SAu26_JawDrop               0\n",
       "SAu27_MouthStretch          0\n",
       "SAu43_EyesClosed            0\n",
       "dtype: int64"
      ]
     },
     "execution_count": 69,
     "metadata": {},
     "output_type": "execute_result"
    }
   ],
   "source": [
    "facial_features.isna().sum()"
   ]
  },
  {
   "cell_type": "code",
   "execution_count": 71,
   "metadata": {},
   "outputs": [],
   "source": [
    "facial_features.to_csv('facial features.csv', encoding='utf-8', index=False)"
   ]
  },
  {
   "cell_type": "code",
   "execution_count": null,
   "metadata": {},
   "outputs": [],
   "source": []
  }
 ],
 "metadata": {
  "kernelspec": {
   "display_name": "Python 3",
   "language": "python",
   "name": "python3"
  },
  "language_info": {
   "codemirror_mode": {
    "name": "ipython",
    "version": 3
   },
   "file_extension": ".py",
   "mimetype": "text/x-python",
   "name": "python",
   "nbconvert_exporter": "python",
   "pygments_lexer": "ipython3",
   "version": "3.8.5"
  }
 },
 "nbformat": 4,
 "nbformat_minor": 4
}
